{
 "cells": [
  {
   "cell_type": "markdown",
   "id": "aa1e6bd1",
   "metadata": {},
   "source": [
    "Libraries"
   ]
  },
  {
   "cell_type": "code",
   "execution_count": 1,
   "id": "4ca81a05",
   "metadata": {},
   "outputs": [],
   "source": [
    "import numpy as np\n",
    "import pandas as pd\n",
    "import matplotlib.pyplot as plt\n",
    "import seaborn as sns\n",
    "from sklearn.linear_model import LinearRegression\n",
    "from scipy.stats import chi2_contingency"
   ]
  },
  {
   "cell_type": "markdown",
   "id": "e118727c",
   "metadata": {},
   "source": [
    "Dataset"
   ]
  },
  {
   "cell_type": "code",
   "execution_count": 2,
   "id": "8811b72b",
   "metadata": {},
   "outputs": [],
   "source": [
    "#encoding came from the discussion so that it is readable\n",
    "youtube_df = pd.read_csv(\"Global YouTube Statistics.csv\", encoding='iso-8859-1')"
   ]
  },
  {
   "cell_type": "code",
   "execution_count": null,
   "id": "b29abaae",
   "metadata": {},
   "outputs": [],
   "source": []
  },
  {
   "cell_type": "markdown",
   "id": "2f44d653",
   "metadata": {},
   "source": [
    "## Statistical Inference\n",
    "\n",
    "*Placeholder Description*\n",
    "\n",
    "In the statistical inference section of our study, we delve into the heart of our data analysis, seeking to draw meaningful conclusions and insights from the structured YouTube dataset. Through a rigorous application of statistical techniques and methodologies, we aim to extract valuable information about the platform's performance, trends, and user behaviors. Statistical inference allows us to identify patterns, correlations, and dependencies within the data, offering answers to critical questions about user engagement, content preferences, and the impact of various factors on YouTube's success.\n",
    "\n",
    "By conducting hypothesis tests, regression analyses, and other statistical procedures, we can make informed assessments of the relationships between different variables. Moreover, we explore the significance of various factors, such as video length, publication time, and audience demographics, in influencing viewership and engagement. This section of our study enables us to provide evidence-based insights into the factors contributing to the dynamics of YouTube's global ecosystem, helping content creators, businesses, and researchers better understand how to navigate and succeed in the ever-evolving world of online video content."
   ]
  },
  {
   "cell_type": "markdown",
   "id": "36492932",
   "metadata": {},
   "source": [
    "### Hypothesis 1:  Is rank associated/dependent with the channel’s country of origin?\n",
    "\n",
    "Description:\n",
    "\n",
    "*placeholder description*\n",
    "\n",
    "\n",
    "Null Hypothesis:\n",
    "- There is no association or dependency between the rank of channels and their country of origin. Mathematically\n",
    "\n",
    "Alternative Hypothesis\n",
    "- There is a significant association or dependency between the rank of channels and their country of origin."
   ]
  },
  {
   "cell_type": "code",
   "execution_count": 4,
   "id": "603302df",
   "metadata": {},
   "outputs": [
    {
     "data": {
      "text/html": [
       "<div>\n",
       "<style scoped>\n",
       "    .dataframe tbody tr th:only-of-type {\n",
       "        vertical-align: middle;\n",
       "    }\n",
       "\n",
       "    .dataframe tbody tr th {\n",
       "        vertical-align: top;\n",
       "    }\n",
       "\n",
       "    .dataframe thead th {\n",
       "        text-align: right;\n",
       "    }\n",
       "</style>\n",
       "<table border=\"1\" class=\"dataframe\">\n",
       "  <thead>\n",
       "    <tr style=\"text-align: right;\">\n",
       "      <th></th>\n",
       "      <th>rank</th>\n",
       "      <th>Country</th>\n",
       "    </tr>\n",
       "  </thead>\n",
       "  <tbody>\n",
       "    <tr>\n",
       "      <th>0</th>\n",
       "      <td>1</td>\n",
       "      <td>India</td>\n",
       "    </tr>\n",
       "    <tr>\n",
       "      <th>1</th>\n",
       "      <td>2</td>\n",
       "      <td>United States</td>\n",
       "    </tr>\n",
       "    <tr>\n",
       "      <th>2</th>\n",
       "      <td>3</td>\n",
       "      <td>United States</td>\n",
       "    </tr>\n",
       "    <tr>\n",
       "      <th>3</th>\n",
       "      <td>4</td>\n",
       "      <td>United States</td>\n",
       "    </tr>\n",
       "    <tr>\n",
       "      <th>4</th>\n",
       "      <td>5</td>\n",
       "      <td>India</td>\n",
       "    </tr>\n",
       "    <tr>\n",
       "      <th>...</th>\n",
       "      <td>...</td>\n",
       "      <td>...</td>\n",
       "    </tr>\n",
       "    <tr>\n",
       "      <th>990</th>\n",
       "      <td>991</td>\n",
       "      <td>Brazil</td>\n",
       "    </tr>\n",
       "    <tr>\n",
       "      <th>991</th>\n",
       "      <td>992</td>\n",
       "      <td>India</td>\n",
       "    </tr>\n",
       "    <tr>\n",
       "      <th>992</th>\n",
       "      <td>993</td>\n",
       "      <td>United Kingdom</td>\n",
       "    </tr>\n",
       "    <tr>\n",
       "      <th>993</th>\n",
       "      <td>994</td>\n",
       "      <td>Sweden</td>\n",
       "    </tr>\n",
       "    <tr>\n",
       "      <th>994</th>\n",
       "      <td>995</td>\n",
       "      <td>India</td>\n",
       "    </tr>\n",
       "  </tbody>\n",
       "</table>\n",
       "<p>995 rows × 2 columns</p>\n",
       "</div>"
      ],
      "text/plain": [
       "     rank         Country\n",
       "0       1           India\n",
       "1       2   United States\n",
       "2       3   United States\n",
       "3       4   United States\n",
       "4       5           India\n",
       "..    ...             ...\n",
       "990   991          Brazil\n",
       "991   992           India\n",
       "992   993  United Kingdom\n",
       "993   994          Sweden\n",
       "994   995           India\n",
       "\n",
       "[995 rows x 2 columns]"
      ]
     },
     "execution_count": 4,
     "metadata": {},
     "output_type": "execute_result"
    }
   ],
   "source": [
    "subscriberRank_df = youtube_df[[\"rank\", 'Country']].copy()\n",
    "subscriberRank_df"
   ]
  },
  {
   "cell_type": "markdown",
   "id": "c56dc881",
   "metadata": {},
   "source": []
  },
  {
   "cell_type": "code",
   "execution_count": null,
   "id": "f487c649",
   "metadata": {},
   "outputs": [],
   "source": []
  },
  {
   "cell_type": "markdown",
   "id": "2a4310ce",
   "metadata": {},
   "source": []
  },
  {
   "cell_type": "code",
   "execution_count": null,
   "id": "fe402b0b",
   "metadata": {},
   "outputs": [],
   "source": []
  }
 ],
 "metadata": {
  "kernelspec": {
   "display_name": "Python 3 (ipykernel)",
   "language": "python",
   "name": "python3"
  },
  "language_info": {
   "codemirror_mode": {
    "name": "ipython",
    "version": 3
   },
   "file_extension": ".py",
   "mimetype": "text/x-python",
   "name": "python",
   "nbconvert_exporter": "python",
   "pygments_lexer": "ipython3",
   "version": "3.11.4"
  }
 },
 "nbformat": 4,
 "nbformat_minor": 5
}
